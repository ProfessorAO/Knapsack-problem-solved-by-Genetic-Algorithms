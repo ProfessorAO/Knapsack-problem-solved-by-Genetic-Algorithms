{
  "nbformat": 4,
  "nbformat_minor": 0,
  "metadata": {
    "colab": {
      "provenance": []
    },
    "kernelspec": {
      "name": "python3",
      "display_name": "Python 3"
    },
    "language_info": {
      "name": "python"
    }
  },
  "cells": [
    {
      "cell_type": "markdown",
      "source": [
        "# Knapsack problem\n",
        "\n",
        "The knapsack (KP) problem is an example of a combinatorial optimization problem, refer to the [wiki](https://en.wikipedia.org/wiki/Knapsack_problem) for a broader overview. \n",
        "\n",
        "<center><img src=\"https://upload.wikimedia.org/wikipedia/commons/thumb/f/fd/Knapsack.svg/250px-Knapsack.svg.png\" width=\"200\"></center>\n",
        "\n",
        "It is concerned with a knapsack that has positive integer volume (or capacity) $V$. For instance, the knapsack may be able to store 20 cubic inches. There are $N$ distinct items that may potentially be placed in the knapsack. Item $i$ has a positive integer\n",
        "volume $Vi$ (e.g this object is 8 cubic inches) and positive integer benefit $Bi$ (e.g how benefical is it to have this object in the knapsack). In the most basic form of the problem we will consider there are only one of each item available (0-1 KP).\n",
        "\n",
        "The goal is to maximize benefit:\n",
        "\n",
        "$$\n",
        "\\sum_i^N B_i\n",
        "$$\n",
        "\n",
        "Subject to the constraint that:\n",
        "\n",
        "$$\n",
        "\\big ( \\sum_i^N V_i \\big) \\leq  V\n",
        "$$\n",
        "\n"
      ],
      "metadata": {
        "id": "nmlkFzbWtcK7"
      }
    },
    {
      "cell_type": "code",
      "source": [
        "import numpy as np\n",
        "import random as rand\n",
        "import matplotlib.pyplot as plt"
      ],
      "metadata": {
        "id": "tr5O6Ou1nbYa"
      },
      "execution_count": null,
      "outputs": []
    },
    {
      "cell_type": "code",
      "execution_count": null,
      "metadata": {
        "id": "LCr2_OqrnAwD",
        "colab": {
          "base_uri": "https://localhost:8080/"
        },
        "outputId": "4a3a300d-5f91-4969-a381-474d314b5406"
      },
      "outputs": [
        {
          "output_type": "stream",
          "name": "stdout",
          "text": [
            "[ 1  0 10  8 10  9  8 10  7  7  9 10  3  8  0  6  2  0  9  1  5  3  2  6\n",
            "  8  0  6  5  1  1  8  9  8  8  5  8 10  9  3 10]\n",
            "[ 5  4  3 10  5  4  9 10  6  3  8  6  3  8  9  6  0  5  6  5  8  0  5  1\n",
            "  6  3  8  2  7  6  7  5  8  4  2  4  3  2  0  5]\n"
          ]
        }
      ],
      "source": [
        "max_volume = 100\n",
        "benefits = np.zeros(40)\n",
        "benefits =  np.array([int(rand.randint(0,10)+i) for i in benefits])# generate the benefits for the torunament\n",
        "volumes = np.zeros(40)\n",
        "volumes = np.array([int(rand.randint(0,10)+i) for i in volumes])# generate the volumes for the tournaments\n",
        "print(benefits)\n",
        "print(volumes)"
      ]
    },
    {
      "cell_type": "code",
      "source": [
        "import numpy as np\n",
        "import random as rand\n",
        "from scipy import stats\n",
        "def fitness_function_w(genotype,max_volume=150):#The fitness function\n",
        "  #get the total benefits of the genotype\n",
        "  benefit =sum(genotype * benefits)\n",
        "  #get total volume of the genotype\n",
        "  total_vol =sum(genotype * volumes)\n",
        "  #check if the volume in the genotype surpasses max vol\n",
        "  if total_vol > max_volume:\n",
        "    return 0\n",
        "    \n",
        "  else:# a single number saying how good the geneotype is\n",
        "    return benefit\n",
        "\n",
        "def getsd(arrofarr):#gets the standard error of an array \n",
        "  maxarr=[]\n",
        "  for i in arrofarr:\n",
        "    maxarr.append(max(i))\n",
        "  return  stats.sem(maxarr)\n",
        "\n",
        "def getlargestarr(arrofarr):#gets the array out of a set of arrays\n",
        "  maxarr=[]\n",
        "  for i in arrofarr:\n",
        "    maxarr.append(max(i))\n",
        "  return maxarr.index(max(maxarr))\n",
        "\n",
        "def getindexofmaxfit(genotypes):#gets the index of the individula with the largest fitness\n",
        "  fitnesses = []\n",
        "  for i in genotypes:\n",
        "    fitnesses.append(fitness_function_w(i))\n",
        "     \n",
        "  return fitnesses.index(max(fitnesses))\n",
        " \n",
        "\n",
        "def getmaxfitness(genotypes):#gets the largest fitness in a population\n",
        "  fitnesses = []\n",
        "  for i in genotypes:\n",
        "    fitnesses.append(fitness_function_w(i))\n",
        "\n",
        "  return(max(fitnesses))\n",
        "\n",
        "def getfitness(genotypes):#returns a function with all the fitnesses\n",
        "  fitnesses = []\n",
        "  for i in genotypes:\n",
        "    fitnesses.append(fitness_function_w(i))\n",
        "\n",
        "  return fitnesses\n",
        "\n",
        "\n",
        "def mutation(genotype,mutation_rate):#Mutates a geneotype\n",
        "  for i in range(len(genotype)):#loops through the genotype\n",
        "    if mutation_rate > np.random.random():#checks if mutation rate is larger than the random number generated\n",
        "      if genotype[i] == 1:#flips the binary digit\n",
        "        genotype[i] = 0\n",
        "      else:\n",
        "        genotype[i] = 1\n",
        "\n",
        "def local_neighbour(neighbourhood_size,index,populationsize):#gets a random index in an index's local neighbourhood\n",
        "  k = index + neighbourhood_size\n",
        "  if k > populationsize:\n",
        "    local_neighbour_idx = k - populationsize # allows for a wrap-around function so that the local neighbourhood is circular\n",
        "  else:\n",
        "    local_neighbour_idx = np.random.randint(index+1, index + neighbourhood_size) # pick random neighbour \n",
        "  return local_neighbour_idx\n",
        "\n",
        "\n",
        "def Pcrossover(Wgenotype,Lgenotype,crossover_prob ):#crosses over a loser with a winner\n",
        "  for i in range(len(Lgenotype)):#loops through the losers genotype\n",
        "    if crossover_prob > np.random.random():#checks if crossover prob is greater than the random number generated\n",
        "      Lgenotype[i] = Wgenotype[i]#sets the digit of the losers index to the digit of the winners index\n",
        "  \n",
        "\n",
        "\n",
        "\n",
        "# lets say I want to sample a neighbour for indivudal 3\n",
        "\n",
        "\n",
        "#print(local_neighbour_gene)\n",
        "def runTournament(neighbourhood,crossover_prob,tournamentruns,mutation_rate,genotypes):#a function that runs the tournament and sets the parameters for that tournament\n",
        "  results=[]\n",
        "  allfitnesses=[]\n",
        "  best_individual = getindexofmaxfit(genotypes) \n",
        "  #b_i_score= []\n",
        "  for i in range(tournamentruns):\n",
        "    #get the fitnesses of all the genotypes\n",
        "    fitnesses = getfitness(genotypes)\n",
        "    allfitnesses.append(fitnesses)\n",
        "    #get the index of a random genotype and get a local neighbour of that genotype\n",
        "    index1 = np.random.randint(0,len(genotypes)-1)\n",
        "    index2 = local_neighbour(neighbourhood,index1,len(genotypes))\n",
        "    #define a loser and winner - crossover and mutate the loser\n",
        "    if fitness_function_w(genotypes[index1]) <= fitness_function_w(genotypes[index2]):\n",
        "      Pcrossover(genotypes[index2],genotypes[index1],crossover_prob)\n",
        "      mutation(genotypes[index1],mutation_rate)\n",
        "    #define a loser and winner - crossover and mutate the loser\n",
        "    elif fitness_function_w(genotypes[index2]) < fitness_function_w(genotypes[index1]):\n",
        "      Pcrossover(genotypes[index1],genotypes[index2],crossover_prob)\n",
        "      mutation(genotypes[index2],mutation_rate)\n",
        "    #append the largest fitness of the run on to the results array\n",
        "    results.append(getmaxfitness(genotypes))\n",
        "    #b_i_score.append(fitness_function_w(genotypes[best_individual]))\n",
        "    \n",
        "  return results"
      ],
      "metadata": {
        "id": "FpVTXTednbfk"
      },
      "execution_count": null,
      "outputs": []
    },
    {
      "cell_type": "markdown",
      "source": [
        "#How population size affects function\n"
      ],
      "metadata": {
        "id": "IK6Q07m4n6lA"
      }
    },
    {
      "cell_type": "code",
      "source": [
        "#getfitness(runTournament(100,0.5,500,0.7))\n",
        "averages={}\n",
        "num_genes = 40\n",
        "size = plt.figure(figsize= (15,7))\n",
        "size.suptitle(\"Max fitness\")\n",
        "for step in range(5,26,5):\n",
        "  results = []\n",
        "  genotypes = np.random.choice([0, 1], (step, num_genes))\n",
        "  for i in range(10):\n",
        "    results.append(runTournament(int(step/2),0.9,2500,0.1,np.copy(genotypes)))\n",
        "  res_largest= getlargestarr(results)\n",
        "  plt.plot(results[res_largest],label = step)\n",
        "  #std.append(getsd(results))\n",
        "  print(\"population size: fitness standard deviation \"+  str(getsd(results)))\n",
        "  plt.legend()\n",
        "\n",
        "plt.xlabel(\"Tournament\")\n",
        "plt.ylabel(\"Max Fitness\")\n"
      ],
      "metadata": {
        "id": "5Gk-ktjOn-EX",
        "colab": {
          "base_uri": "https://localhost:8080/",
          "height": 597
        },
        "outputId": "288b4834-593c-43e4-d62d-fe4b006c7a03"
      },
      "execution_count": null,
      "outputs": [
        {
          "output_type": "stream",
          "name": "stdout",
          "text": [
            "population size: fitness standard deviation 0.7520342781785652\n",
            "population size: fitness standard deviation 1.0\n",
            "population size: fitness standard deviation 1.3266499161421597\n",
            "population size: fitness standard deviation 1.174260996920569\n",
            "population size: fitness standard deviation 0.9574271077563381\n"
          ]
        },
        {
          "output_type": "execute_result",
          "data": {
            "text/plain": [
              "Text(0, 0.5, 'Max Fitness')"
            ]
          },
          "metadata": {},
          "execution_count": 5
        },
        {
          "output_type": "display_data",
          "data": {
            "text/plain": [
              "<Figure size 1080x504 with 1 Axes>"
            ],
            "image/png": "[encoded data removed]"
          },
          "metadata": {
            "needs_background": "light"
          }
        }
      ]
    },
    {
      "cell_type": "markdown",
      "source": [
        "#How mutation rate affects fitness"
      ],
      "metadata": {
        "id": "mqV0p7X8n-qA"
      }
    },
    {
      "cell_type": "code",
      "source": [
        "\n",
        "num_individuals= 15\n",
        "num_genes = 40\n",
        "genotypes = np.random.choice([0, 1], (num_individuals, num_genes))\n",
        "size = plt.figure(figsize= (15,7))\n",
        "size.suptitle(\"How mutation rate affects population \")\n",
        "for step in range(1,11,1):\n",
        "  results =[]\n",
        "  b_i_score = []\n",
        "  best_individual_score= []\n",
        "  for i in range(10):\n",
        "    n = float(step)/10\n",
        "    results.append(runTournament(3,0.6,2500,n,np.copy(genotypes)))\n",
        "  res_largest= getlargestarr(results)\n",
        "  plt.plot(results[res_largest], label = n)\n",
        "  #std.append(getsd(results))\n",
        "  print(\"Mutation Rate : fitness standard deviation \"+  str(getsd(results)))\n",
        "  plt.legend()\n",
        "\n",
        "plt.xlabel(\"Tournament Runs\")\n",
        "plt.ylabel(\"Max Fitness\")\n"
      ],
      "metadata": {
        "id": "Li5WvhyWn-9g"
      },
      "execution_count": null,
      "outputs": []
    },
    {
      "cell_type": "markdown",
      "source": [
        "#How Crossover Probabaility affects Fitness"
      ],
      "metadata": {
        "id": "N_9wUZ5Sn_Rx"
      }
    },
    {
      "cell_type": "code",
      "source": [
        "num_individuals= 15\n",
        "num_genes = 40\n",
        "genotypes = np.random.choice([0, 1], (num_individuals, num_genes))\n",
        "size = plt.figure(figsize= (15,7))\n",
        "size.suptitle(\"How Crossover Probabaility affects population \")\n",
        "for step in range(1,11,1):\n",
        "  results =[]\n",
        "  best_individual = getindexofmaxfit(genotypes)\n",
        "  for i in range(10):\n",
        "    n = float(step)/10\n",
        "    results.append(runTournament(3,n,2500,0.1,np.copy(genotypes)))\n",
        "  res_largest= getlargestarr(results)\n",
        "  plt.plot(results[res_largest],label = n)\n",
        "  #std.append(getsd(results))\n",
        "  print(\"Crossover Probability : fitness standard deviation \"+  str(getsd(results)))\n",
        "  plt.legend()\n",
        "\n",
        "plt.xlabel(\"Tournament Runs\")\n",
        "plt.ylabel(\"Max Fitness\")\n"
      ],
      "metadata": {
        "id": "WjfHew01n_jS"
      },
      "execution_count": null,
      "outputs": []
    },
    {
      "cell_type": "markdown",
      "source": [
        "#How neighbourhood affects Fitness"
      ],
      "metadata": {
        "id": "g5SEW7iwn_zR"
      }
    },
    {
      "cell_type": "code",
      "source": [
        "num_individuals= 15\n",
        "num_genes = 40\n",
        "genotypes = np.random.choice([0, 1], (num_individuals, num_genes))\n",
        "size = plt.figure(figsize= (15,7))\n",
        "size.suptitle(\"How Neighbourhood affects Fitness on a population of 25 \")\n",
        "for step in range(4,20,4):\n",
        "  results =[]\n",
        "  for i in range(10):\n",
        "    results.append(runTournament(3,0.6,2500,0.1,np.copy(genotypes)))\n",
        "  res_largest= getlargestarr(results)\n",
        "  plt.plot(results[res_largest], label= step)\n",
        "  #std.append(getsd(results))\n",
        "  print(\"neighbourhoods : fitness standard deviation \"+  str(getsd(results)))\n",
        "  plt.legend()\n",
        "\n",
        "plt.xlabel(\"Tournament Runs\")\n",
        "plt.ylabel(\"Max Fitness\")\n",
        "#print(\"number of neighbourhoods : fitness\"+str(neaverages))\n",
        "  \n",
        "plt.show()"
      ],
      "metadata": {
        "id": "384EtzeVoAFU"
      },
      "execution_count": null,
      "outputs": []
    },
    {
      "cell_type": "markdown",
      "source": [
        "#How tournaments runs affects Fitness"
      ],
      "metadata": {
        "id": "i9mGIzXgoSG5"
      }
    },
    {
      "cell_type": "code",
      "source": [
        "#change graph to bar graph of tournament runs against fitness\n",
        "import numpy as np\n",
        "num_individuals= 15\n",
        "num_genes = 40\n",
        "genotypes = np.random.choice([0, 1], (num_individuals, num_genes))\n",
        "size = plt.figure(figsize= (15,7))\n",
        "size.suptitle(\"How Tournaments runs Fitness on a population of 25 \")\n",
        "tournamentruns = ['500', '1000', '1500', '2000', '2500','3000']\n",
        "fig = plt.figure()\n",
        "ax = fig.add_axes([0,0,1,1])\n",
        "barval=[]\n",
        "mean=[]\n",
        "\n",
        "for step in range(500,3001,500):\n",
        "  results =[]\n",
        "  for i in range(10):\n",
        "    results.append(runTournament(3,0.6,step,0.1,np.copy(genotypes)))\n",
        " \n",
        "  barval.append(max(max(results)))\n",
        "  mean.append(np.mean(results))\n",
        "  print(\"standard deviation: \"+str(getsd(results)))\n",
        "\n",
        "print(\"max fitness: \"+str(barval))\n",
        "print(\"mean fitness: \"+str(mean))\n",
        "\n"
      ],
      "metadata": {
        "id": "EVqozEDaoUK7",
        "colab": {
          "base_uri": "https://localhost:8080/",
          "height": 496
        },
        "outputId": "47da2cd4-80fe-4b3c-b2cb-4d0bc1a944bf"
      },
      "execution_count": null,
      "outputs": [
        {
          "output_type": "stream",
          "name": "stdout",
          "text": [
            "standard deviation: 2.1602468994692865\n",
            "standard deviation: 1.149395976637778\n",
            "standard deviation: 1.8844392033470094\n",
            "standard deviation: 0.9451631252505217\n",
            "standard deviation: 0.8975274678557505\n",
            "standard deviation: 0.9073771725877465\n",
            "max fitness: [206, 210, 203, 208, 210, 209]\n",
            "mean fitness: [187.4872, 197.2709, 202.6328, 202.95565, 205.09616, 206.905]\n"
          ]
        },
        {
          "output_type": "display_data",
          "data": {
            "text/plain": [
              "<Figure size 1080x504 with 0 Axes>"
            ]
          },
          "metadata": {}
        },
        {
          "output_type": "display_data",
          "data": {
            "text/plain": [
              "<Figure size 432x288 with 1 Axes>"
            ],
            "image/png": "[encoded data removed]"
          },
          "metadata": {
            "needs_background": "light"
          }
        }
      ]
    }
  ]
}